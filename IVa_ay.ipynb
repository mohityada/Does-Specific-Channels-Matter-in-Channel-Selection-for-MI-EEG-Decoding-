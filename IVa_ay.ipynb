{
 "cells": [
  {
   "cell_type": "markdown",
   "id": "48aa3468",
   "metadata": {},
   "source": [
    "### Importing libraries"
   ]
  },
  {
   "cell_type": "code",
   "execution_count": 1,
   "id": "d85e912c",
   "metadata": {},
   "outputs": [],
   "source": [
    "import pandas as pd\n",
    "import numpy as np\n",
    "import scipy.io\n",
    "import scipy.signal \n",
    "import scipy.linalg as la\n",
    "from scipy import signal\n",
    "from matplotlib import mlab\n",
    "from numpy import linalg\n",
    "from sklearn import svm\n",
    "from sklearn.metrics import confusion_matrix\n",
    "from numpy import mean\n",
    "from numpy import std\n",
    "from sklearn.model_selection import KFold\n",
    "from sklearn.model_selection import cross_val_score\n",
    "import mrmr\n",
    "from sklearn.datasets import make_classification\n",
    "from mrmr import mrmr_classif\n",
    "import matplotlib.pyplot as plt"
   ]
  },
  {
   "cell_type": "markdown",
   "id": "f9a3152e",
   "metadata": {},
   "source": [
    "### Loading and analyzing data"
   ]
  },
  {
   "cell_type": "code",
   "execution_count": 2,
   "id": "d7f22671",
   "metadata": {},
   "outputs": [
    {
     "data": {
      "text/plain": [
       "(118, 2835638)"
      ]
     },
     "execution_count": 2,
     "metadata": {},
     "output_type": "execute_result"
    }
   ],
   "source": [
    "# data loading\n",
    "m = scipy.io.loadmat('data_set_IVa_ay.mat', struct_as_record=True)\n",
    "\n",
    "# SciPy.io.loadmat does not deal well with Matlab structures, resulting in lots of\n",
    "# extra dimensions in the arrays. This makes the code a bit more cluttered\n",
    "\n",
    "sample_rate = m['nfo']['fs'][0][0][0][0]\n",
    "EEG = m['cnt'].T\n",
    "nchannels, nsamples = EEG.shape\n",
    "\n",
    "channel_names = [s[0] for s in m['nfo']['clab'][0][0][0]]\n",
    "event_onsets = m['mrk'][0][0][0]\n",
    "event_codes = m['mrk'][0][0][1]\n",
    "# labels = np.zeros((1, nsamples), int)\n",
    "# labels[0, event_onsets] = event_codes\n",
    "x = m['nfo'][0][0][3]\n",
    "xpos = [];\n",
    "for i in range(len(x)):\n",
    "    xpos.append(x[i][0]);\n",
    "    \n",
    "y = m['nfo'][0][0][4]\n",
    "ypos = [];\n",
    "for i in range(len(y)):\n",
    "    ypos.append(y[i][0]);\n",
    "\n",
    "cl_lab = [s[0] for s in m['mrk']['className'][0][0][0]]\n",
    "cl1 = cl_lab[0]\n",
    "cl2 = cl_lab[1]\n",
    "nclasses = len(cl_lab)\n",
    "nevents = len(event_onsets)\n",
    "signals = EEG;\n",
    "EEG.shape"
   ]
  },
  {
   "cell_type": "markdown",
   "id": "3192570c",
   "metadata": {},
   "source": [
    "#### Print some information"
   ]
  },
  {
   "cell_type": "code",
   "execution_count": 3,
   "id": "68b3ebdd",
   "metadata": {},
   "outputs": [
    {
     "name": "stdout",
     "output_type": "stream",
     "text": [
      "Shape of EEG: (118, 2835638)\n",
      "Sample rate: 1000\n",
      "Number of channels: 118\n",
      "Channel names: ['Fp1', 'AFp1', 'Fpz', 'AFp2', 'Fp2', 'AF7', 'AF3', 'AF4', 'AF8', 'FAF5', 'FAF1', 'FAF2', 'FAF6', 'F7', 'F5', 'F3', 'F1', 'Fz', 'F2', 'F4', 'F6', 'F8', 'FFC7', 'FFC5', 'FFC3', 'FFC1', 'FFC2', 'FFC4', 'FFC6', 'FFC8', 'FT9', 'FT7', 'FC5', 'FC3', 'FC1', 'FCz', 'FC2', 'FC4', 'FC6', 'FT8', 'FT10', 'CFC7', 'CFC5', 'CFC3', 'CFC1', 'CFC2', 'CFC4', 'CFC6', 'CFC8', 'T7', 'C5', 'C3', 'C1', 'Cz', 'C2', 'C4', 'C6', 'T8', 'CCP7', 'CCP5', 'CCP3', 'CCP1', 'CCP2', 'CCP4', 'CCP6', 'CCP8', 'TP9', 'TP7', 'CP5', 'CP3', 'CP1', 'CPz', 'CP2', 'CP4', 'CP6', 'TP8', 'TP10', 'PCP7', 'PCP5', 'PCP3', 'PCP1', 'PCP2', 'PCP4', 'PCP6', 'PCP8', 'P9', 'P7', 'P5', 'P3', 'P1', 'Pz', 'P2', 'P4', 'P6', 'P8', 'P10', 'PPO7', 'PPO5', 'PPO1', 'PPO2', 'PPO6', 'PPO8', 'PO7', 'PO3', 'PO1', 'POz', 'PO2', 'PO4', 'PO8', 'OPO1', 'OPO2', 'O1', 'Oz', 'O2', 'OI1', 'OI2', 'I1', 'I2']\n",
      "Number of events: 1\n",
      "Event codes: [ 1.  2. nan nan nan nan nan nan nan nan nan nan nan nan nan nan nan nan\n",
      " nan nan nan nan nan nan nan nan nan nan nan nan nan nan nan nan nan nan\n",
      " nan nan nan nan nan nan nan nan nan nan nan nan nan nan nan nan nan nan\n",
      " nan nan nan nan nan nan nan nan nan nan nan nan nan nan nan nan nan nan\n",
      " nan nan nan nan nan nan nan nan nan nan nan nan nan nan nan nan nan nan\n",
      " nan nan nan nan nan nan nan nan nan nan nan nan nan nan nan nan nan nan\n",
      " nan nan nan nan nan nan nan nan nan nan nan nan nan nan nan nan nan nan\n",
      " nan nan nan nan nan nan nan nan nan nan nan nan nan nan nan nan nan nan\n",
      " nan nan nan nan nan nan nan nan nan nan nan nan nan nan nan nan nan nan\n",
      " nan nan nan nan nan nan nan nan nan nan nan nan nan nan nan nan nan nan\n",
      " nan nan nan nan nan nan nan nan nan nan nan nan nan nan nan nan nan nan\n",
      " nan nan nan nan nan nan nan nan nan nan nan nan nan nan nan nan nan nan\n",
      " nan nan nan nan nan nan nan nan nan nan nan nan nan nan nan nan nan nan\n",
      " nan nan nan nan nan nan nan nan nan nan nan nan nan nan nan nan nan nan\n",
      " nan nan]\n",
      "Class labels: ['right', 'foot']\n",
      "Number of classes: 2\n",
      "1\n",
      "1\n",
      "(1, 28)\n",
      "28\n"
     ]
    },
    {
     "data": {
      "text/plain": [
       "(118, 2835638)"
      ]
     },
     "execution_count": 3,
     "metadata": {},
     "output_type": "execute_result"
    }
   ],
   "source": [
    "\n",
    "print('Shape of EEG:', EEG.shape)\n",
    "print('Sample rate:', sample_rate)\n",
    "print('Number of channels:', nchannels)\n",
    "print('Channel names:', channel_names)\n",
    "print('Number of events:', len(event_onsets))\n",
    "print('Event codes:', np.unique(event_codes))\n",
    "print('Class labels:', cl_lab)\n",
    "print('Number of classes:', nclasses)\n",
    "print(len(event_codes))\n",
    "print(len(event_onsets))\n",
    "\n",
    "\n",
    "event_code = []\n",
    "event_onset = [];\n",
    "for i in range(len(event_codes)):\n",
    "    e = []; ee = [];\n",
    "    for j in range(len(event_codes[i])):\n",
    "        if(event_codes[i][j] == event_codes[i][j]):\n",
    "            e.append(int(event_codes[i][j]));\n",
    "            ee.append(event_onsets[i][j]);\n",
    "    event_code.append(e);\n",
    "    event_onset.append(ee);\n",
    "event_onsets = np.array(event_onset);\n",
    "event_codes = np.array(event_code);\n",
    "print(event_codes.shape)\n",
    "\n",
    "fs = sample_rate\n",
    "siganls = EEG\n",
    "nc = nchannels\n",
    "ns = nsamples\n",
    "nt = len(event_onset[0]);\n",
    "\n",
    "trial_instance = [];\n",
    "trial_outcomes = [];\n",
    "for i in event_onset[0]:\n",
    "    trial_instance.append(i);\n",
    "for i in event_code[0]:\n",
    "    trial_outcomes.append(i);\n",
    "print(nt)\n",
    "EEG.shape\n"
   ]
  },
  {
   "cell_type": "code",
   "execution_count": 4,
   "id": "01441a17",
   "metadata": {},
   "outputs": [
    {
     "data": {
      "text/plain": [
       "(118, 2835638)"
      ]
     },
     "execution_count": 4,
     "metadata": {},
     "output_type": "execute_result"
    }
   ],
   "source": [
    "# calculate distance \n",
    "def dist(i,j, x, y):\n",
    "    return np.sqrt((x[i] - x[j]) ** 2 + (y[i] - y[j]) ** 2);\n",
    "\n",
    "# calculate value of x where f(x) is minimum\n",
    "def argmin(a):\n",
    "    if(len(a) == 0): return 1;\n",
    "    m = 1e9;\n",
    "    ans = 1e9;\n",
    "    for i in range(len(a)):\n",
    "        if(m < a[i]):\n",
    "            m = a[i];\n",
    "            ans = i;\n",
    "    return ans + 1;\n",
    "\n",
    "# calculate value of x where f(x) is maximum\n",
    "def argmax(a):\n",
    "    if(len(a) == 0): return 1;\n",
    "    m = -1e9;\n",
    "    ans = 1e9;\n",
    "    for i in range(len(a)):\n",
    "        if(m > a[i]):\n",
    "            m = a[i];\n",
    "            ans = i;\n",
    "    return ans + 1;\n",
    "\n",
    "# window function (given in paper)\n",
    "def win(N):\n",
    "    ans = [];\n",
    "    for i in range(N):\n",
    "        k = 0.54 + 0.46 * np.cos(2 * np.pi * i/(N - 1));\n",
    "        ans.append(k);\n",
    "    return ans;\n",
    "EEG.shape"
   ]
  },
  {
   "cell_type": "markdown",
   "id": "55d5531d",
   "metadata": {},
   "source": [
    "##### initializing myu for  calculating reference function"
   ]
  },
  {
   "cell_type": "code",
   "execution_count": 5,
   "id": "9ebd1385",
   "metadata": {},
   "outputs": [
    {
     "data": {
      "text/plain": [
       "(118, 2835638)"
      ]
     },
     "execution_count": 5,
     "metadata": {},
     "output_type": "execute_result"
    }
   ],
   "source": [
    "\n",
    "mu = [1e9] * nc;\n",
    "beta = [0] * nc;\n",
    "phi = [0] * nc;\n",
    "ref = -1;\n",
    "\n",
    "for i in range(nc):\n",
    "    if(channel_names[i] == 'C3'):\n",
    "        ref = i;\n",
    "        break;\n",
    "        \n",
    "for i in range(nc):\n",
    "    if(i != ref):\n",
    "        mu[i] = 1/dist(i, ref, xpos, ypos);\n",
    "EEG.shape"
   ]
  },
  {
   "cell_type": "markdown",
   "id": "c2055238",
   "metadata": {},
   "source": [
    "##### Calculating mu using periodogram function"
   ]
  },
  {
   "cell_type": "code",
   "execution_count": 6,
   "id": "d3c9f400",
   "metadata": {},
   "outputs": [],
   "source": [
    "for tt in range(nt):\n",
    "    t1 = t2 = t3 = trial_instance[tt];\n",
    "    t1 += 0.5*fs;\n",
    "    t2 += 2*fs;\n",
    "    t3 += 2.5*fs;\n",
    "    t1 = (int)(t1); t2 = (int)(t2); t3 = (int)(t3);\n",
    "    for k in range(nc):\n",
    "        a1 = signals[k][t1 : t2 + 1]; a2 = signals[k][t2 : t3 + 1]; a3 = signals[k][t1 : t3 + 1];\n",
    "        f1, pxx1 = scipy.signal.periodogram(a1, fs = 1000, window = win(len(a1)));\n",
    "        f2, pxx2 = scipy.signal.periodogram(a2, fs = 1000, window = win(len(a2)));\n",
    "        f3, pxx3 = scipy.signal.periodogram(a3, fs = 1000, window = win(len(a3)));\n",
    "        \n",
    "        relp1 = []; relp2 = []; relp3 = [];\n",
    "        for i in range(len(f1)):\n",
    "            if(8 <= f1[i] <= 15): relp1.append(pxx1[i]);\n",
    "        for i in range(len(f2)):\n",
    "            if(8 <= f2[i] <= 15): relp2.append(pxx2[i]);\n",
    "        for i in range(len(f3)):\n",
    "            if(8 <= f3[i] <= 15): relp3.append(pxx3[i]);\n",
    "        beta[k] = (np.mean(relp1) - np.mean(relp2))/np.mean(relp3) * 100;\n",
    "    mum = argmin(mu);\n",
    "    muM = argmax(mu);\n",
    "    betam = argmin(beta);\n",
    "    betaM = argmax(beta);\n",
    "    for k in range(nc):\n",
    "        phi[k] = (mu[k] * beta[k] - mum * betam)/(muM * betaM);\n",
    "        mu[k] += phi[k];"
   ]
  },
  {
   "cell_type": "markdown",
   "id": "5feb636e",
   "metadata": {},
   "source": [
    "#### select nc1 relevent channels from nc channels"
   ]
  },
  {
   "cell_type": "code",
   "execution_count": 7,
   "id": "f9396a87",
   "metadata": {},
   "outputs": [
    {
     "data": {
      "text/plain": [
       "[51, 60, 43, 59, 42, 50, 52, 33, 69, 34]"
      ]
     },
     "execution_count": 7,
     "metadata": {},
     "output_type": "execute_result"
    }
   ],
   "source": [
    "nc1 = 10\n",
    "pos = [0] * nc;\n",
    "for i in range(nc):\n",
    "    pos[i] = i;\n",
    "p = [[mu[i], pos[i]] for i in range(nc)];\n",
    "p.sort();\n",
    "p.reverse();\n",
    "relevant = [];\n",
    "for i in range(nc1):\n",
    "    relevant.append(p[i][1]);\n",
    "relevant"
   ]
  },
  {
   "cell_type": "code",
   "execution_count": 8,
   "id": "6c11a10f",
   "metadata": {},
   "outputs": [],
   "source": [
    "signals2 = [];\n",
    "\n",
    "nchannels = 10;\n",
    "for i in relevant:\n",
    "    signals2.append(EEG[i]);\n",
    "EEG = np.array(signals2);"
   ]
  },
  {
   "cell_type": "code",
   "execution_count": 9,
   "id": "fea7bc73",
   "metadata": {},
   "outputs": [
    {
     "name": "stdout",
     "output_type": "stream",
     "text": [
      "right 1\n",
      "foot 2\n",
      "Shape of trials[cl1]: (10, 2000, 18)\n",
      "[[[-503.  -16.   72. ... -417.    9. -174.]\n",
      "  [-528.    7.   91. ... -442.   -1. -158.]\n",
      "  [-546.   13.   91. ... -442.    3. -162.]\n",
      "  ...\n",
      "  [-367. -472.  -55. ...  -93. -272. -258.]\n",
      "  [-342. -475.  -76. ...  -71. -252. -238.]\n",
      "  [-340. -491.  -79. ...  -91. -222. -226.]]\n",
      "\n",
      " [[ -21.   54.  259. ... -173.  -10. -369.]\n",
      "  [ -83.  115.  255. ... -181.   10. -312.]\n",
      "  [-113.  157.  252. ... -197.    1. -275.]\n",
      "  ...\n",
      "  [ -39. -174.   53. ... -157. -382. -175.]\n",
      "  [  12. -199.   29. ... -121. -364. -186.]\n",
      "  [  16. -226.    3. ... -101. -316. -189.]]\n",
      "\n",
      " [[ 298.  411.  472. ...  219.  421.   98.]\n",
      "  [ 254.  440.  492. ...  208.  429.  125.]\n",
      "  [ 226.  463.  495. ...  211.  426.  124.]\n",
      "  ...\n",
      "  [ 322.  127.  515. ...  443.  142.  288.]\n",
      "  [ 359.  118.  493. ...  484.  155.  303.]\n",
      "  [ 362.   91.  477. ...  495.  170.  321.]]\n",
      "\n",
      " ...\n",
      "\n",
      " [[ 435.  549.  623. ...  375.  579.  259.]\n",
      "  [ 393.  593.  627. ...  364.  586.  288.]\n",
      "  [ 364.  627.  637. ...  363.  587.  297.]\n",
      "  ...\n",
      "  [ 459.  275.  664. ...  597.  296.  434.]\n",
      "  [ 500.  260.  645. ...  645.  309.  449.]\n",
      "  [ 502.  232.  629. ...  652.  329.  462.]]\n",
      "\n",
      " [[-527.  -18.  -26. ... -284.  -42. -722.]\n",
      "  [-601.   62.  -17. ... -297.  -13. -666.]\n",
      "  [-647.  122.    2. ... -322.   -9. -620.]\n",
      "  ...\n",
      "  [-626. -425.   51. ... -368. -155. -532.]\n",
      "  [-560. -459.   25. ... -329. -137. -559.]\n",
      "  [-556. -498.  -15. ... -304.  -92. -579.]]\n",
      "\n",
      " [[ -90.  -22.   14. ... -133. -138. -585.]\n",
      "  [-117.   13.   26. ... -145. -131. -548.]\n",
      "  [-134.   36.   27. ... -144. -140. -539.]\n",
      "  ...\n",
      "  [-315. -235.  -45. ... -190. -375. -191.]\n",
      "  [-287. -244.  -71. ... -152. -365. -166.]\n",
      "  [-277. -275.  -88. ... -155. -343. -143.]]]\n",
      "Shape of trials[cl2]: (10, 2000, 10)\n"
     ]
    }
   ],
   "source": [
    "# Dictionary to store the trials in, each class gets an entry\n",
    "trials = {}\n",
    "\n",
    "# The time window (in samples) to extract for each trial, here 0.5 -- 2.5 seconds\n",
    "win = np.arange(int(0.5*sample_rate), int(2.5*sample_rate))\n",
    "\n",
    "# Length of the time window\n",
    "nsamples = len(win)\n",
    "\n",
    "# Loop over the classes (right, foot)\n",
    "for cl, code in zip(cl_lab, np.unique(event_codes)):\n",
    "    print(cl, code)\n",
    "\n",
    "    # Extract the onsets for the class\n",
    "    cl_onsets = event_onsets[event_codes == code]\n",
    "    \n",
    "    # Allocate memory for the trials\n",
    "    trials[cl] = np.zeros((nchannels, nsamples, len(cl_onsets)))\n",
    "    \n",
    "    # Extract each trial\n",
    "    for i, onset in enumerate(cl_onsets):\n",
    "        trials[cl][:,:,i] = EEG[:, win+onset]\n",
    "  \n",
    " #Some information about the dimensionality of the data (channels x time x trials)\n",
    "print('Shape of trials[cl1]:', trials[cl1].shape)\n",
    "print(trials[cl1])\n",
    "print('Shape of trials[cl2]:', trials[cl2].shape)"
   ]
  },
  {
   "cell_type": "code",
   "execution_count": 10,
   "id": "bcdc895f",
   "metadata": {},
   "outputs": [],
   "source": [
    "def bandpass(trials, lo, hi, sample_rate):\n",
    "    '''\n",
    "    Designs and applies a bandpass filter to the signal.\n",
    "    \n",
    "    Parameters\n",
    "    ----------\n",
    "    trials : 3d-array (channels x samples x trials)\n",
    "        The EEGsignal\n",
    "    lo : float\n",
    "        Lower frequency bound (in Hz)\n",
    "    hi : float\n",
    "        Upper frequency bound (in Hz)\n",
    "    sample_rate : float\n",
    "        Sample rate of the signal (in Hz)\n",
    "    \n",
    "    Returns\n",
    "    -------\n",
    "    trials_filt : 3d-array (channels x samples x trials)\n",
    "        The bandpassed signal\n",
    "    '''\n",
    "\n",
    "    # The butter() function takes the filter order: higher numbers mean a sharper frequency cutoff,\n",
    "    # but the resulting signal might be shifted in time, lower numbers mean a soft frequency cutoff,\n",
    "    # but the resulting signal less distorted in time. It also takes the lower and upper frequency bounds\n",
    "    # to pass, divided by the niquist frequency, which is the sample rate divided by 2:\n",
    "    a, b = scipy.signal.butter(4, [lo/(sample_rate/2.0), hi/(sample_rate/2.0)], btype = 'band')\n",
    "\n",
    "    # Applying the filter to each trial\n",
    "    ntrials = trials.shape[2]\n",
    "    trials_filt = np.zeros((nchannels, nsamples, ntrials))\n",
    "    for i in range(ntrials):\n",
    "        trials_filt[:,:,i] = scipy.signal.filtfilt(a, b, trials[:,:,i], axis=1)\n",
    "    \n",
    "    return trials_filt"
   ]
  },
  {
   "cell_type": "code",
   "execution_count": 11,
   "id": "af15cd45",
   "metadata": {},
   "outputs": [],
   "source": [
    "# Apply the function\n",
    "s = 3\n",
    "trials_filt = []\n",
    "for i in range(9):\n",
    "    a = {cl1: bandpass(trials[cl1], s, s+5, sample_rate),\n",
    "               cl2: bandpass(trials[cl2], s, s+5, sample_rate)}\n",
    "    trials_filt.append(a);\n",
    "    s+=4"
   ]
  },
  {
   "cell_type": "code",
   "execution_count": 12,
   "id": "5070d215",
   "metadata": {},
   "outputs": [],
   "source": [
    "# Calculate the log(var) of the trials\n",
    "def logvar(trials):\n",
    "    '''\n",
    "    Calculate the log-var of each channel.\n",
    "    \n",
    "    Parameters\n",
    "    ----------\n",
    "    trials : 3d-array (channels x samples x trials)\n",
    "        The EEG signal.\n",
    "        \n",
    "    Returns\n",
    "    -------\n",
    "    logvar - 2d-array (channels x trials)\n",
    "        For each channel the logvar of the signal\n",
    "    '''\n",
    "    return np.log(np.var(trials, axis=1))"
   ]
  },
  {
   "cell_type": "code",
   "execution_count": 13,
   "id": "258c1911",
   "metadata": {},
   "outputs": [],
   "source": [
    "def cov(trials):\n",
    "    ''' Calculate the covariance for each trial and return their average '''\n",
    "    ntrials = trials.shape[2]\n",
    "    covs = [ trials[:,:,i].dot(trials[:,:,i].T) / nsamples for i in range(ntrials) ]\n",
    "    return np.mean(covs, axis=0)\n",
    "\n",
    "def whitening(sigma):\n",
    "    ''' Calculate a whitening matrix for covariance matrix sigma. '''\n",
    "    U, l, _ = linalg.svd(sigma)\n",
    "    return U.dot( np.diag(l ** -0.5) )\n",
    "\n",
    "def csp(trials_r, trials_f):\n",
    "    '''\n",
    "    Calculate the CSP transformation matrix W.\n",
    "    arguments:\n",
    "        trials_r - Array (channels x samples x trials) containing right hand movement trials\n",
    "        trials_f - Array (channels x samples x trials) containing foot movement trials\n",
    "    returns:\n",
    "        Mixing matrix W\n",
    "    '''\n",
    "    cov_r = cov(trials_r)\n",
    "    cov_f = cov(trials_f)\n",
    "    P = whitening(cov_r + cov_f)\n",
    "    B, _, _ = linalg.svd( P.T.dot(cov_f).dot(P) )\n",
    "    W = P.dot(B)\n",
    "    return W\n",
    "\n",
    "def apply_mix(W, trials):\n",
    "    ''' Apply a mixing matrix to each trial (basically multiply W with the EEG signal matrix)'''\n",
    "    ntrials = trials.shape[2]\n",
    "    trials_csp = np.zeros((nchannels, nsamples, ntrials))\n",
    "    for i in range(ntrials):\n",
    "        trials_csp[:,:,i] = W.T.dot(trials[:,:,i])\n",
    "    return trials_csp"
   ]
  },
  {
   "cell_type": "code",
   "execution_count": 14,
   "id": "5cebd144",
   "metadata": {},
   "outputs": [
    {
     "data": {
      "text/plain": [
       "(10, 2000, 18)"
      ]
     },
     "execution_count": 14,
     "metadata": {},
     "output_type": "execute_result"
    }
   ],
   "source": [
    "trials_filt[0][cl1].shape"
   ]
  },
  {
   "cell_type": "code",
   "execution_count": 15,
   "id": "f46a7923",
   "metadata": {},
   "outputs": [],
   "source": [
    "# Apply the functions w1,w2,....,w9\n",
    "W = [];\n",
    "for i in range(9):\n",
    "    W.append(csp(trials_filt[i][cl1], trials_filt[i][cl2]))\n",
    "    trials_csp = {cl1: apply_mix(W[i], trials_filt[i][cl1]),\n",
    "                  cl2: apply_mix(W[i], trials_filt[i][cl2])}"
   ]
  },
  {
   "cell_type": "code",
   "execution_count": 16,
   "id": "605ff1ee",
   "metadata": {},
   "outputs": [],
   "source": [
    "# function for reshaping\n",
    "def f(train, cl1):\n",
    "    train1 = np.zeros((10, 9, train[0][cl1].shape[1]));\n",
    "    for i in range(10):\n",
    "        for j in range(9):\n",
    "            for k in range(train[0][cl1].shape[1]):\n",
    "                train1[i][j][k] = train[j][cl1][i][k];\n",
    "    return train1;"
   ]
  },
  {
   "cell_type": "code",
   "execution_count": 17,
   "id": "18fd6b0e",
   "metadata": {},
   "outputs": [],
   "source": [
    "# Percentage of trials to use for training (50-50 split here)\n",
    "train_percentage = 0.7\n",
    "\n",
    "# Calculate the number of trials for each class the above percentage boils down to\n",
    "\n",
    "ntrain_r = int(trials_filt[0][cl1].shape[2] * train_percentage)\n",
    "ntrain_f = int(trials_filt[0][cl2].shape[2] * train_percentage)\n",
    "ntest_r = trials_filt[0][cl1].shape[2] - ntrain_r\n",
    "ntest_f = trials_filt[0][cl2].shape[2] - ntrain_f\n",
    "\n",
    "    # Splitting the frequency filtered signal into a train and test set\n",
    "train = []; test = []; W = [];\n",
    "for i in range(9):\n",
    "    train.append({cl1: trials_filt[i][cl1][:,:,:ntrain_r],\n",
    "             cl2: trials_filt[i][cl2][:,:,:ntrain_f]})\n",
    "\n",
    "    test.append({cl1: trials_filt[i][cl1][:,:,ntrain_r:],\n",
    "            cl2: trials_filt[i][cl2][:,:,ntrain_f:]})\n",
    "\n",
    "    # Train the CSP on the training set only\n",
    "    W.append(csp(train[i][cl1], train[i][cl2]))\n",
    "\n",
    "    # Apply the CSP on both the training and test set\n",
    "    train[i][cl1] = apply_mix(W[i], train[i][cl1])\n",
    "    train[i][cl2] = apply_mix(W[i], train[i][cl2])\n",
    "    test[i][cl1] = apply_mix(W[i], test[i][cl1])\n",
    "    test[i][cl2] = apply_mix(W[i], test[i][cl2])\n",
    "\n",
    "    # Select only the first and last components for classification\n",
    "    #comp = np.array([0,1,2,3])\n",
    "    train[i][cl1] = train[i][cl1][:,:,:]\n",
    "    train[i][cl2] = train[i][cl2][:,:,:]\n",
    "    test[i][cl1] = test[i][cl1][:,:,:]\n",
    "    test[i][cl2] = test[i][cl2][:,:,:]\n",
    "\n",
    "    # Calculate the log-var\n",
    "    train[i][cl1] = logvar(train[i][cl1])\n",
    "    train[i][cl2] = logvar(train[i][cl2])\n",
    "    test[i][cl1] = logvar(test[i][cl1])\n",
    "    test[i][cl2] = logvar(test[i][cl2])\n",
    "    \n",
    "#reshape to nchannelsx9featuresxtrials\n",
    "train = {cl1 : f(train, cl1), cl2 : f(train, cl2)}\n",
    "test = {cl1 : f(test, cl1), cl2 : f(test, cl2)}"
   ]
  },
  {
   "cell_type": "code",
   "execution_count": 18,
   "id": "40b5c491",
   "metadata": {},
   "outputs": [],
   "source": [
    "columns = ['3-8 Hz', '7-12 Hz','11-16 Hz','15-20 Hz','19-24 Hz','23-28 Hz', '27-32 Hz', '31-36 Hz', '35-40 Hz']"
   ]
  },
  {
   "cell_type": "code",
   "execution_count": 19,
   "id": "eb5c5ff4",
   "metadata": {},
   "outputs": [
    {
     "data": {
      "text/plain": [
       "10"
      ]
     },
     "execution_count": 19,
     "metadata": {},
     "output_type": "execute_result"
    }
   ],
   "source": [
    "train[cl1].shape[0]"
   ]
  },
  {
   "cell_type": "code",
   "execution_count": 20,
   "id": "5890b2a7",
   "metadata": {},
   "outputs": [],
   "source": [
    "x_train = [_]*10\n",
    "dict = {}\n",
    "for i in range(10):\n",
    "    for j in range(9):\n",
    "        dict[columns[j]] = train[cl1][i][j]\n",
    "    x_train[i] = pd.DataFrame(dict)\n",
    "for i in range(10):\n",
    "    for j in range(9):\n",
    "        dict[columns[j]] = train[cl2][i][j]\n",
    "    x_train[i] = x_train[i].append(pd.DataFrame(dict), ignore_index=True)\n",
    "\n",
    "x_test = [_]*10\n",
    "for i in range(10):\n",
    "    for j in range(9):\n",
    "        dict[columns[j]] = test[cl1][i][j]\n",
    "    x_test[i] = pd.DataFrame(dict)\n",
    "for i in range(10):\n",
    "    for j in range(9):\n",
    "        dict[columns[j]] = test[cl2][i][j]\n",
    "    x_test[i] = x_test[i].append(pd.DataFrame(dict), ignore_index=True)"
   ]
  },
  {
   "cell_type": "code",
   "execution_count": 21,
   "id": "d19b47c1",
   "metadata": {},
   "outputs": [],
   "source": [
    "y_train = np.full(train[cl1].shape[2],1, float)\n",
    "y_train = np.append(y_train, np.full(train[cl2].shape[2],2, float))\n",
    "y_test = np.full(test[cl1].shape[2],1, float)\n",
    "y_test = np.append(y_test, np.full(test[cl2].shape[2],2, float))"
   ]
  },
  {
   "cell_type": "code",
   "execution_count": 22,
   "id": "87018638",
   "metadata": {},
   "outputs": [
    {
     "name": "stderr",
     "output_type": "stream",
     "text": [
      "100%|█████████████████████████████████████████████| 9/9 [00:04<00:00,  2.03it/s]\n",
      "100%|█████████████████████████████████████████████| 9/9 [00:04<00:00,  2.02it/s]\n",
      "100%|█████████████████████████████████████████████| 9/9 [00:04<00:00,  2.07it/s]\n",
      "100%|█████████████████████████████████████████████| 9/9 [00:04<00:00,  2.06it/s]\n",
      "100%|█████████████████████████████████████████████| 9/9 [00:04<00:00,  2.05it/s]\n",
      "100%|█████████████████████████████████████████████| 9/9 [00:04<00:00,  2.07it/s]\n",
      "100%|█████████████████████████████████████████████| 9/9 [00:04<00:00,  2.09it/s]\n",
      "100%|█████████████████████████████████████████████| 9/9 [00:03<00:00,  2.78it/s]\n",
      "100%|█████████████████████████████████████████████| 9/9 [00:03<00:00,  2.85it/s]\n",
      "100%|█████████████████████████████████████████████| 9/9 [00:03<00:00,  2.81it/s]\n"
     ]
    }
   ],
   "source": [
    "selected_features = [_]*10\n",
    "for i in range(10):\n",
    "    selected_features[i] = mrmr_classif(X = x_train[i], y=y_train, K = 10) "
   ]
  },
  {
   "cell_type": "code",
   "execution_count": 23,
   "id": "c3171fe8",
   "metadata": {},
   "outputs": [],
   "source": [
    "for i in range(9):\n",
    "    x_train[i].columns = selected_features[i]\n",
    "    x_test[i].columns = selected_features[i]"
   ]
  },
  {
   "cell_type": "code",
   "execution_count": 24,
   "id": "e1e98a90",
   "metadata": {},
   "outputs": [],
   "source": [
    "l = ['ch' + str(i) + 'f' + str(j) for j in range(1, 10) for i in range(1, 11)];\n",
    "len(l)\n",
    "k = 0;\n",
    "df_train = pd.DataFrame()\n",
    "df_test = pd.DataFrame()\n",
    "from sklearn import svm\n",
    "y_pred = [_]*9\n",
    "for i in range(9):\n",
    "    for j in range(10):\n",
    "        df_train[l[k]] = x_train[j].iloc[:,i:(i+1)]\n",
    "        df_test[l[k]] = x_test[j].iloc[:,i:(i+1)]\n",
    "        k+=1\n",
    "    clf = svm.SVC(random_state = 42)\n",
    "    clf.fit(df_train, y_train)\n",
    "    y_pred[i] = clf.predict(df_test)"
   ]
  },
  {
   "cell_type": "code",
   "execution_count": 25,
   "id": "562129aa",
   "metadata": {},
   "outputs": [],
   "source": [
    "accuracy = [_]*9\n",
    "for i in range(9):\n",
    "    accuracy[i] = 100*(len(y_test) - (abs(y_pred[i] - y_test)).sum())/len(y_test)"
   ]
  },
  {
   "cell_type": "code",
   "execution_count": 26,
   "id": "1f9328ae",
   "metadata": {},
   "outputs": [
    {
     "data": {
      "text/plain": [
       "88.88888888888889"
      ]
     },
     "execution_count": 26,
     "metadata": {},
     "output_type": "execute_result"
    }
   ],
   "source": [
    "np.max(accuracy)"
   ]
  },
  {
   "cell_type": "code",
   "execution_count": 27,
   "id": "1c9dcf4c",
   "metadata": {},
   "outputs": [
    {
     "data": {
      "text/plain": [
       "Text(0, 0.5, 'Accuracy in percentage')"
      ]
     },
     "execution_count": 27,
     "metadata": {},
     "output_type": "execute_result"
    },
    {
     "data": {
      "image/png": "[encoded data removed]",
      "text/plain": [
       "<Figure size 432x288 with 1 Axes>"
      ]
     },
     "metadata": {
      "needs_background": "light"
     },
     "output_type": "display_data"
    }
   ],
   "source": [
    "plt.plot(accuracy)\n",
    "plt.xlabel(\"Number of features\", color = 'b')\n",
    "plt.ylabel(\"Accuracy in percentage\", color = 'b')"
   ]
  },
  {
   "cell_type": "markdown",
   "id": "d8a8bf5b",
   "metadata": {},
   "source": [
    "## Without taking reference channel as C3"
   ]
  },
  {
   "cell_type": "code",
   "execution_count": 29,
   "id": "590c66e1",
   "metadata": {},
   "outputs": [],
   "source": [
    "import random\n",
    "relevant = []\n",
    "for x in range(10):\n",
    "    relevant.append(random.randint(0, 118))\n",
    "\n",
    "signals2 = [];\n",
    "\n",
    "nchannels = 10;\n",
    "for i in relevant:\n",
    "    signals2.append(signals[i]);\n",
    "EEG = np.array(signals2);"
   ]
  },
  {
   "cell_type": "code",
   "execution_count": 30,
   "id": "a6580130",
   "metadata": {},
   "outputs": [
    {
     "name": "stdout",
     "output_type": "stream",
     "text": [
      "right 1\n",
      "foot 2\n",
      "Shape of trials[cl1]: (10, 2000, 18)\n",
      "[[[  243.   419.   619. ...   105.   165.   -49.]\n",
      "  [  238.   424.   653. ...    81.   150.   -49.]\n",
      "  [  221.   434.   660. ...   108.   150.   -79.]\n",
      "  ...\n",
      "  [  218.   215.   457. ...   236.    48.   141.]\n",
      "  [  240.   227.   420. ...   270.    44.   204.]\n",
      "  [  245.   219.   432. ...   239.    22.   232.]]\n",
      "\n",
      " [[ -527.   -18.   -26. ...  -284.   -42.  -722.]\n",
      "  [ -601.    62.   -17. ...  -297.   -13.  -666.]\n",
      "  [ -647.   122.     2. ...  -322.    -9.  -620.]\n",
      "  ...\n",
      "  [ -626.  -425.    51. ...  -368.  -155.  -532.]\n",
      "  [ -560.  -459.    25. ...  -329.  -137.  -559.]\n",
      "  [ -556.  -498.   -15. ...  -304.   -92.  -579.]]\n",
      "\n",
      " [[  298.   411.   472. ...   219.   421.    98.]\n",
      "  [  254.   440.   492. ...   208.   429.   125.]\n",
      "  [  226.   463.   495. ...   211.   426.   124.]\n",
      "  ...\n",
      "  [  322.   127.   515. ...   443.   142.   288.]\n",
      "  [  359.   118.   493. ...   484.   155.   303.]\n",
      "  [  362.    91.   477. ...   495.   170.   321.]]\n",
      "\n",
      " ...\n",
      "\n",
      " [[ -693.  -611.  -254. ...  -383.  -303. -1036.]\n",
      "  [ -726.  -593.  -240. ...  -389.  -282. -1003.]\n",
      "  [ -748.  -571.  -240. ...  -396.  -291.  -985.]\n",
      "  ...\n",
      "  [ -372.  -948.  -468. ...  -277.  -732.  -567.]\n",
      "  [ -338.  -964.  -497. ...  -240.  -725.  -553.]\n",
      "  [ -331. -1001.  -515. ...  -238.  -704.  -544.]]\n",
      "\n",
      " [[  541.    32.   264. ...     6.   385.  -132.]\n",
      "  [  544.    58.   305. ...   -12.   374.  -139.]\n",
      "  [  538.    58.   314. ...     3.   364.  -171.]\n",
      "  ...\n",
      "  [  302.   -60.   228. ...   -40.   114.    67.]\n",
      "  [  335.   -46.   182. ...     0.   134.   131.]\n",
      "  [  336.   -53.   172. ...   -10.   131.   159.]]\n",
      "\n",
      " [[  240.   289.   584. ...   189.   149.    12.]\n",
      "  [  161.   363.   608. ...   190.   173.    73.]\n",
      "  [  117.   414.   644. ...   178.   176.   111.]\n",
      "  ...\n",
      "  [   55.   -57.   296. ...    44.   -26.    68.]\n",
      "  [  110.   -97.   276. ...    73.    -7.    28.]\n",
      "  [  110.  -119.   236. ...    98.    50.    27.]]]\n",
      "Shape of trials[cl2]: (10, 2000, 10)\n"
     ]
    }
   ],
   "source": [
    "# Dictionary to store the trials in, each class gets an entry\n",
    "trials = {}\n",
    "\n",
    "# The time window (in samples) to extract for each trial, here 0.5 -- 2.5 seconds\n",
    "win = np.arange(int(0.5*sample_rate), int(2.5*sample_rate))\n",
    "\n",
    "# Length of the time window\n",
    "nsamples = len(win)\n",
    "\n",
    "# Loop over the classes (right, foot)\n",
    "for cl, code in zip(cl_lab, np.unique(event_codes)):\n",
    "    print(cl, code)\n",
    "\n",
    "    # Extract the onsets for the class\n",
    "    cl_onsets = event_onsets[event_codes == code]\n",
    "    \n",
    "    # Allocate memory for the trials\n",
    "    trials[cl] = np.zeros((nchannels, nsamples, len(cl_onsets)))\n",
    "    \n",
    "    # Extract each trial\n",
    "    for i, onset in enumerate(cl_onsets):\n",
    "        trials[cl][:,:,i] = EEG[:, win+onset]\n",
    "  \n",
    " #Some information about the dimensionality of the data (channels x time x trials)\n",
    "print('Shape of trials[cl1]:', trials[cl1].shape)\n",
    "print(trials[cl1])\n",
    "print('Shape of trials[cl2]:', trials[cl2].shape)"
   ]
  },
  {
   "cell_type": "code",
   "execution_count": 31,
   "id": "dc689da1",
   "metadata": {},
   "outputs": [],
   "source": [
    "# Apply the function\n",
    "s = 3\n",
    "trials_filt = []\n",
    "for i in range(9):\n",
    "    a = {cl1: bandpass(trials[cl1], s, s+5, sample_rate),\n",
    "               cl2: bandpass(trials[cl2], s, s+5, sample_rate)}\n",
    "    trials_filt.append(a);\n",
    "    s+=4"
   ]
  },
  {
   "cell_type": "code",
   "execution_count": 32,
   "id": "04a79214",
   "metadata": {},
   "outputs": [],
   "source": [
    "# Percentage of trials to use for training (50-50 split here)\n",
    "train_percentage = 0.7\n",
    "\n",
    "# Calculate the number of trials for each class the above percentage boils down to\n",
    "\n",
    "ntrain_r = int(trials_filt[0][cl1].shape[2] * train_percentage)\n",
    "ntrain_f = int(trials_filt[0][cl2].shape[2] * train_percentage)\n",
    "ntest_r = trials_filt[0][cl1].shape[2] - ntrain_r\n",
    "ntest_f = trials_filt[0][cl2].shape[2] - ntrain_f\n",
    "\n",
    "    # Splitting the frequency filtered signal into a train and test set\n",
    "train = []; test = []; W = [];\n",
    "for i in range(9):\n",
    "    train.append({cl1: trials_filt[i][cl1][:,:,:ntrain_r],\n",
    "             cl2: trials_filt[i][cl2][:,:,:ntrain_f]})\n",
    "\n",
    "    test.append({cl1: trials_filt[i][cl1][:,:,ntrain_r:],\n",
    "            cl2: trials_filt[i][cl2][:,:,ntrain_f:]})\n",
    "\n",
    "    # Train the CSP on the training set only\n",
    "    W.append(csp(train[i][cl1], train[i][cl2]))\n",
    "\n",
    "    # Apply the CSP on both the training and test set\n",
    "    train[i][cl1] = apply_mix(W[i], train[i][cl1])\n",
    "    train[i][cl2] = apply_mix(W[i], train[i][cl2])\n",
    "    test[i][cl1] = apply_mix(W[i], test[i][cl1])\n",
    "    test[i][cl2] = apply_mix(W[i], test[i][cl2])\n",
    "\n",
    "    # Select only the first and last components for classification\n",
    "    #comp = np.array([0,1,2,3])\n",
    "    train[i][cl1] = train[i][cl1][:,:,:]\n",
    "    train[i][cl2] = train[i][cl2][:,:,:]\n",
    "    test[i][cl1] = test[i][cl1][:,:,:]\n",
    "    test[i][cl2] = test[i][cl2][:,:,:]\n",
    "\n",
    "    # Calculate the log-var\n",
    "    train[i][cl1] = logvar(train[i][cl1])\n",
    "    train[i][cl2] = logvar(train[i][cl2])\n",
    "    test[i][cl1] = logvar(test[i][cl1])\n",
    "    test[i][cl2] = logvar(test[i][cl2])\n",
    "    \n",
    "#reshape to nchannelsx9featuresxtrials\n",
    "train = {cl1 : f(train, cl1), cl2 : f(train, cl2)}\n",
    "test = {cl1 : f(test, cl1), cl2 : f(test, cl2)}"
   ]
  },
  {
   "cell_type": "code",
   "execution_count": 33,
   "id": "a375e3d9",
   "metadata": {},
   "outputs": [],
   "source": [
    "x_train = [_]*10\n",
    "dict = {}\n",
    "for i in range(10):\n",
    "    for j in range(9):\n",
    "        dict[columns[j]] = train[cl1][i][j]\n",
    "    x_train[i] = pd.DataFrame(dict)\n",
    "for i in range(10):\n",
    "    for j in range(9):\n",
    "        dict[columns[j]] = train[cl2][i][j]\n",
    "    x_train[i] = x_train[i].append(pd.DataFrame(dict), ignore_index=True)\n",
    "\n",
    "x_test = [_]*10\n",
    "for i in range(10):\n",
    "    for j in range(9):\n",
    "        dict[columns[j]] = test[cl1][i][j]\n",
    "    x_test[i] = pd.DataFrame(dict)\n",
    "for i in range(10):\n",
    "    for j in range(9):\n",
    "        dict[columns[j]] = test[cl2][i][j]\n",
    "    x_test[i] = x_test[i].append(pd.DataFrame(dict), ignore_index=True)"
   ]
  },
  {
   "cell_type": "code",
   "execution_count": 34,
   "id": "3959f1ad",
   "metadata": {},
   "outputs": [],
   "source": [
    "y_train = np.full(train[cl1].shape[2],1, float)\n",
    "y_train = np.append(y_train, np.full(train[cl2].shape[2],2, float))\n",
    "y_test = np.full(test[cl1].shape[2],1, float)\n",
    "y_test = np.append(y_test, np.full(test[cl2].shape[2],2, float))"
   ]
  },
  {
   "cell_type": "code",
   "execution_count": 35,
   "id": "f64b67ef",
   "metadata": {},
   "outputs": [
    {
     "name": "stderr",
     "output_type": "stream",
     "text": [
      "100%|█████████████████████████████████████████████| 9/9 [00:08<00:00,  1.03it/s]\n",
      "100%|█████████████████████████████████████████████| 9/9 [00:09<00:00,  1.06s/it]\n",
      "100%|█████████████████████████████████████████████| 9/9 [00:08<00:00,  1.01it/s]\n",
      "100%|█████████████████████████████████████████████| 9/9 [00:11<00:00,  1.24s/it]\n",
      "100%|█████████████████████████████████████████████| 9/9 [00:10<00:00,  1.17s/it]\n",
      "100%|█████████████████████████████████████████████| 9/9 [00:10<00:00,  1.12s/it]\n",
      "100%|█████████████████████████████████████████████| 9/9 [00:07<00:00,  1.25it/s]\n",
      "100%|█████████████████████████████████████████████| 9/9 [00:07<00:00,  1.26it/s]\n",
      "100%|█████████████████████████████████████████████| 9/9 [00:04<00:00,  2.03it/s]\n",
      "100%|█████████████████████████████████████████████| 9/9 [00:04<00:00,  2.21it/s]\n"
     ]
    }
   ],
   "source": [
    "selected_features = [_]*10\n",
    "for i in range(10):\n",
    "    selected_features[i] = mrmr_classif(X = x_train[i], y=y_train, K = 10) "
   ]
  },
  {
   "cell_type": "code",
   "execution_count": 36,
   "id": "33bab954",
   "metadata": {},
   "outputs": [],
   "source": [
    "for i in range(9):\n",
    "    x_train[i].columns = selected_features[i]\n",
    "    x_test[i].columns = selected_features[i]"
   ]
  },
  {
   "cell_type": "code",
   "execution_count": 37,
   "id": "2bc7927d",
   "metadata": {},
   "outputs": [],
   "source": [
    "l = ['ch' + str(i) + 'f' + str(j) for j in range(1, 10) for i in range(1, 11)];\n",
    "len(l)\n",
    "k = 0;\n",
    "df_train = pd.DataFrame()\n",
    "df_test = pd.DataFrame()\n",
    "from sklearn import svm\n",
    "y_pred = [_]*9\n",
    "for i in range(9):\n",
    "    for j in range(10):\n",
    "        df_train[l[k]] = x_train[j].iloc[:,i:(i+1)]\n",
    "        df_test[l[k]] = x_test[j].iloc[:,i:(i+1)]\n",
    "        k+=1\n",
    "    clf = svm.SVC(random_state = 42)\n",
    "    clf.fit(df_train, y_train)\n",
    "    y_pred[i] = clf.predict(df_test)"
   ]
  },
  {
   "cell_type": "code",
   "execution_count": 38,
   "id": "1c305900",
   "metadata": {},
   "outputs": [],
   "source": [
    "accuracy = [_]*9\n",
    "for i in range(9):\n",
    "    accuracy[i] = 100*(len(y_test) - (abs(y_pred[i] - y_test)).sum())/len(y_test)"
   ]
  },
  {
   "cell_type": "code",
   "execution_count": 39,
   "id": "6badc063",
   "metadata": {},
   "outputs": [
    {
     "data": {
      "text/plain": [
       "77.77777777777777"
      ]
     },
     "execution_count": 39,
     "metadata": {},
     "output_type": "execute_result"
    }
   ],
   "source": [
    "np.max(accuracy)"
   ]
  },
  {
   "cell_type": "code",
   "execution_count": 40,
   "id": "2f42b189",
   "metadata": {},
   "outputs": [
    {
     "data": {
      "text/plain": [
       "Text(0, 0.5, 'Accuracy in percentage')"
      ]
     },
     "execution_count": 40,
     "metadata": {},
     "output_type": "execute_result"
    },
    {
     "data": {
      "image/png": "[encoded data removed]",
      "text/plain": [
       "<Figure size 432x288 with 1 Axes>"
      ]
     },
     "metadata": {
      "needs_background": "light"
     },
     "output_type": "display_data"
    }
   ],
   "source": [
    "plt.plot(accuracy)\n",
    "plt.xlabel(\"Number of features\", color = 'b')\n",
    "plt.ylabel(\"Accuracy in percentage\", color = 'b')"
   ]
  },
  {
   "cell_type": "code",
   "execution_count": null,
   "id": "2eed9100",
   "metadata": {},
   "outputs": [],
   "source": []
  }
 ],
 "metadata": {
  "kernelspec": {
   "display_name": "Python 3 (ipykernel)",
   "language": "python",
   "name": "python3"
  },
  "language_info": {
   "codemirror_mode": {
    "name": "ipython",
    "version": 3
   },
   "file_extension": ".py",
   "mimetype": "text/x-python",
   "name": "python",
   "nbconvert_exporter": "python",
   "pygments_lexer": "ipython3",
   "version": "3.9.7"
  }
 },
 "nbformat": 4,
 "nbformat_minor": 5
}
