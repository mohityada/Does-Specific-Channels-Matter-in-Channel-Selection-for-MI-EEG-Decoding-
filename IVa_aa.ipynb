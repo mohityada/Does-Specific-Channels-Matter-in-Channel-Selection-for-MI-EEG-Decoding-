{
 "cells": [
  {
   "cell_type": "markdown",
   "id": "81d8e677",
   "metadata": {},
   "source": [
    "### Importing libraries"
   ]
  },
  {
   "cell_type": "code",
   "execution_count": 1,
   "id": "2d00226a",
   "metadata": {},
   "outputs": [],
   "source": [
    "import pandas as pd\n",
    "import numpy as np\n",
    "import scipy.io\n",
    "import scipy.signal \n",
    "import scipy.linalg as la\n",
    "from scipy import signal\n",
    "from matplotlib import mlab\n",
    "from numpy import linalg\n",
    "from sklearn import svm\n",
    "from sklearn.metrics import confusion_matrix\n",
    "from numpy import mean\n",
    "from numpy import std\n",
    "from sklearn.model_selection import KFold\n",
    "from sklearn.model_selection import cross_val_score\n",
    "import mrmr\n",
    "from sklearn.datasets import make_classification\n",
    "from mrmr import mrmr_classif\n",
    "import matplotlib.pyplot as plt"
   ]
  },
  {
   "cell_type": "markdown",
   "id": "9b2d02fe",
   "metadata": {},
   "source": [
    "### Loading and analyzing data"
   ]
  },
  {
   "cell_type": "code",
   "execution_count": 2,
   "id": "d7f22671",
   "metadata": {},
   "outputs": [
    {
     "data": {
      "text/plain": [
       "(118, 2984598)"
      ]
     },
     "execution_count": 2,
     "metadata": {},
     "output_type": "execute_result"
    }
   ],
   "source": [
    "# data loading\n",
    "m = scipy.io.loadmat('data_set_IVa_aa.mat', struct_as_record=True)\n",
    "\n",
    "# SciPy.io.loadmat does not deal well with Matlab structures, resulting in lots of\n",
    "# extra dimensions in the arrays. This makes the code a bit more cluttered\n",
    "\n",
    "sample_rate = m['nfo']['fs'][0][0][0][0]\n",
    "EEG = m['cnt'].T\n",
    "nchannels, nsamples = EEG.shape\n",
    "\n",
    "channel_names = [s[0] for s in m['nfo']['clab'][0][0][0]]\n",
    "event_onsets = m['mrk'][0][0][0]\n",
    "event_codes = m['mrk'][0][0][1]\n",
    "# labels = np.zeros((1, nsamples), int)\n",
    "# labels[0, event_onsets] = event_codes\n",
    "x = m['nfo'][0][0][3]\n",
    "xpos = [];\n",
    "for i in range(len(x)):\n",
    "    xpos.append(x[i][0]);\n",
    "    \n",
    "y = m['nfo'][0][0][4]\n",
    "ypos = [];\n",
    "for i in range(len(y)):\n",
    "    ypos.append(y[i][0]);\n",
    "\n",
    "cl_lab = [s[0] for s in m['mrk']['className'][0][0][0]]\n",
    "cl1 = cl_lab[0]\n",
    "cl2 = cl_lab[1]\n",
    "nclasses = len(cl_lab)\n",
    "nevents = len(event_onsets)\n",
    "signals = EEG;\n",
    "EEG.shape"
   ]
  },
  {
   "cell_type": "markdown",
   "id": "67997d6c",
   "metadata": {},
   "source": [
    "#### Print some information"
   ]
  },
  {
   "cell_type": "code",
   "execution_count": 3,
   "id": "68b3ebdd",
   "metadata": {},
   "outputs": [
    {
     "name": "stdout",
     "output_type": "stream",
     "text": [
      "Shape of EEG: (118, 2984598)\n",
      "Sample rate: 1000\n",
      "Number of channels: 118\n",
      "Channel names: ['Fp1', 'AFp1', 'Fpz', 'AFp2', 'Fp2', 'AF7', 'AF3', 'AF4', 'AF8', 'FAF5', 'FAF1', 'FAF2', 'FAF6', 'F7', 'F5', 'F3', 'F1', 'Fz', 'F2', 'F4', 'F6', 'F8', 'FFC7', 'FFC5', 'FFC3', 'FFC1', 'FFC2', 'FFC4', 'FFC6', 'FFC8', 'FT9', 'FT7', 'FC5', 'FC3', 'FC1', 'FCz', 'FC2', 'FC4', 'FC6', 'FT8', 'FT10', 'CFC7', 'CFC5', 'CFC3', 'CFC1', 'CFC2', 'CFC4', 'CFC6', 'CFC8', 'T7', 'C5', 'C3', 'C1', 'Cz', 'C2', 'C4', 'C6', 'T8', 'CCP7', 'CCP5', 'CCP3', 'CCP1', 'CCP2', 'CCP4', 'CCP6', 'CCP8', 'TP9', 'TP7', 'CP5', 'CP3', 'CP1', 'CPz', 'CP2', 'CP4', 'CP6', 'TP8', 'TP10', 'PCP7', 'PCP5', 'PCP3', 'PCP1', 'PCP2', 'PCP4', 'PCP6', 'PCP8', 'P9', 'P7', 'P5', 'P3', 'P1', 'Pz', 'P2', 'P4', 'P6', 'P8', 'P10', 'PPO7', 'PPO5', 'PPO1', 'PPO2', 'PPO6', 'PPO8', 'PO7', 'PO3', 'PO1', 'POz', 'PO2', 'PO4', 'PO8', 'OPO1', 'OPO2', 'O1', 'Oz', 'O2', 'OI1', 'OI2', 'I1', 'I2']\n",
      "Number of events: 1\n",
      "Event codes: [ 1.  2. nan nan nan nan nan nan nan nan nan nan nan nan nan nan nan nan\n",
      " nan nan nan nan nan nan nan nan nan nan nan nan nan nan nan nan nan nan\n",
      " nan nan nan nan nan nan nan nan nan nan nan nan nan nan nan nan nan nan\n",
      " nan nan nan nan nan nan nan nan nan nan nan nan nan nan nan nan nan nan\n",
      " nan nan nan nan nan nan nan nan nan nan nan nan nan nan nan nan nan nan\n",
      " nan nan nan nan nan nan nan nan nan nan nan nan nan nan nan nan nan nan\n",
      " nan nan nan nan nan nan]\n",
      "Class labels: ['right', 'foot']\n",
      "Number of classes: 2\n",
      "1\n",
      "1\n",
      "(1, 168)\n",
      "168\n"
     ]
    },
    {
     "data": {
      "text/plain": [
       "(118, 2984598)"
      ]
     },
     "execution_count": 3,
     "metadata": {},
     "output_type": "execute_result"
    }
   ],
   "source": [
    "\n",
    "print('Shape of EEG:', EEG.shape)\n",
    "print('Sample rate:', sample_rate)\n",
    "print('Number of channels:', nchannels)\n",
    "print('Channel names:', channel_names)\n",
    "print('Number of events:', len(event_onsets))\n",
    "print('Event codes:', np.unique(event_codes))\n",
    "print('Class labels:', cl_lab)\n",
    "print('Number of classes:', nclasses)\n",
    "print(len(event_codes))\n",
    "print(len(event_onsets))\n",
    "\n",
    "\n",
    "event_code = []\n",
    "event_onset = [];\n",
    "for i in range(len(event_codes)):\n",
    "    e = []; ee = [];\n",
    "    for j in range(len(event_codes[i])):\n",
    "        if(event_codes[i][j] == event_codes[i][j]):\n",
    "            e.append(int(event_codes[i][j]));\n",
    "            ee.append(event_onsets[i][j]);\n",
    "    event_code.append(e);\n",
    "    event_onset.append(ee);\n",
    "event_onsets = np.array(event_onset);\n",
    "event_codes = np.array(event_code);\n",
    "print(event_codes.shape)\n",
    "\n",
    "fs = sample_rate\n",
    "siganls = EEG\n",
    "nc = nchannels\n",
    "ns = nsamples\n",
    "nt = len(event_onset[0]);\n",
    "\n",
    "trial_instance = [];\n",
    "trial_outcomes = [];\n",
    "for i in event_onset[0]:\n",
    "    trial_instance.append(i);\n",
    "for i in event_code[0]:\n",
    "    trial_outcomes.append(i);\n",
    "print(nt)\n",
    "EEG.shape\n"
   ]
  },
  {
   "cell_type": "code",
   "execution_count": 4,
   "id": "01441a17",
   "metadata": {},
   "outputs": [
    {
     "data": {
      "text/plain": [
       "(118, 2984598)"
      ]
     },
     "execution_count": 4,
     "metadata": {},
     "output_type": "execute_result"
    }
   ],
   "source": [
    "# calculate distance \n",
    "def dist(i,j, x, y):\n",
    "    return np.sqrt((x[i] - x[j]) ** 2 + (y[i] - y[j]) ** 2);\n",
    "\n",
    "# calculate value of x where f(x) is minimum\n",
    "def argmin(a):\n",
    "    if(len(a) == 0): return 1;\n",
    "    m = 1e9;\n",
    "    ans = 1e9;\n",
    "    for i in range(len(a)):\n",
    "        if(m < a[i]):\n",
    "            m = a[i];\n",
    "            ans = i;\n",
    "    return ans + 1;\n",
    "\n",
    "# calculate value of x where f(x) is maximum\n",
    "def argmax(a):\n",
    "    if(len(a) == 0): return 1;\n",
    "    m = -1e9;\n",
    "    ans = 1e9;\n",
    "    for i in range(len(a)):\n",
    "        if(m > a[i]):\n",
    "            m = a[i];\n",
    "            ans = i;\n",
    "    return ans + 1;\n",
    "\n",
    "# window function (given in paper)\n",
    "def win(N):\n",
    "    ans = [];\n",
    "    for i in range(N):\n",
    "        k = 0.54 + 0.46 * np.cos(2 * np.pi * i/(N - 1));\n",
    "        ans.append(k);\n",
    "    return ans;\n",
    "EEG.shape"
   ]
  },
  {
   "cell_type": "markdown",
   "id": "aa16925a",
   "metadata": {},
   "source": [
    "##### initializing myu for  calculating reference function"
   ]
  },
  {
   "cell_type": "code",
   "execution_count": 5,
   "id": "9ebd1385",
   "metadata": {},
   "outputs": [
    {
     "data": {
      "text/plain": [
       "(118, 2984598)"
      ]
     },
     "execution_count": 5,
     "metadata": {},
     "output_type": "execute_result"
    }
   ],
   "source": [
    "\n",
    "mu = [1e9] * nc;\n",
    "beta = [0] * nc;\n",
    "phi = [0] * nc;\n",
    "ref = -1;\n",
    "\n",
    "for i in range(nc):\n",
    "    if(channel_names[i] == 'C3'):\n",
    "        ref = i;\n",
    "        break;\n",
    "        \n",
    "for i in range(nc):\n",
    "    if(i != ref):\n",
    "        mu[i] = 1/dist(i, ref, xpos, ypos);\n",
    "EEG.shape"
   ]
  },
  {
   "cell_type": "markdown",
   "id": "d6196bbe",
   "metadata": {},
   "source": [
    "##### Calculating mu using periodogram function"
   ]
  },
  {
   "cell_type": "code",
   "execution_count": 6,
   "id": "d3c9f400",
   "metadata": {},
   "outputs": [],
   "source": [
    "for tt in range(nt):\n",
    "    t1 = t2 = t3 = trial_instance[tt];\n",
    "    t1 += 0.5*fs;\n",
    "    t2 += 2*fs;\n",
    "    t3 += 2.5*fs;\n",
    "    t1 = (int)(t1); t2 = (int)(t2); t3 = (int)(t3);\n",
    "    for k in range(nc):\n",
    "        a1 = signals[k][t1 : t2 + 1]; a2 = signals[k][t2 : t3 + 1]; a3 = signals[k][t1 : t3 + 1];\n",
    "        f1, pxx1 = scipy.signal.periodogram(a1, fs = 1000, window = win(len(a1)));\n",
    "        f2, pxx2 = scipy.signal.periodogram(a2, fs = 1000, window = win(len(a2)));\n",
    "        f3, pxx3 = scipy.signal.periodogram(a3, fs = 1000, window = win(len(a3)));\n",
    "        \n",
    "        relp1 = []; relp2 = []; relp3 = [];\n",
    "        for i in range(len(f1)):\n",
    "            if(8 <= f1[i] <= 15): relp1.append(pxx1[i]);\n",
    "        for i in range(len(f2)):\n",
    "            if(8 <= f2[i] <= 15): relp2.append(pxx2[i]);\n",
    "        for i in range(len(f3)):\n",
    "            if(8 <= f3[i] <= 15): relp3.append(pxx3[i]);\n",
    "        beta[k] = (np.mean(relp1) - np.mean(relp2))/np.mean(relp3) * 100;\n",
    "    mum = argmin(mu);\n",
    "    muM = argmax(mu);\n",
    "    betam = argmin(beta);\n",
    "    betaM = argmax(beta);\n",
    "    for k in range(nc):\n",
    "        phi[k] = (mu[k] * beta[k] - mum * betam)/(muM * betaM);\n",
    "        mu[k] += phi[k];"
   ]
  },
  {
   "cell_type": "markdown",
   "id": "68cb48ae",
   "metadata": {},
   "source": [
    "#### select nc1 relevent channels from nc channels"
   ]
  },
  {
   "cell_type": "code",
   "execution_count": 7,
   "id": "f9396a87",
   "metadata": {},
   "outputs": [
    {
     "data": {
      "text/plain": [
       "[51, 60, 43, 42, 59, 52, 50, 69, 33, 34]"
      ]
     },
     "execution_count": 7,
     "metadata": {},
     "output_type": "execute_result"
    }
   ],
   "source": [
    "nc1 = 10\n",
    "pos = [0] * nc;\n",
    "for i in range(nc):\n",
    "    pos[i] = i;\n",
    "p = [[mu[i], pos[i]] for i in range(nc)];\n",
    "p.sort();\n",
    "p.reverse();\n",
    "relevant = [];\n",
    "for i in range(nc1):\n",
    "    relevant.append(p[i][1]);\n",
    "relevant"
   ]
  },
  {
   "cell_type": "code",
   "execution_count": 8,
   "id": "a3725a16",
   "metadata": {},
   "outputs": [],
   "source": [
    "signals2 = [];\n",
    "\n",
    "nchannels = 10;\n",
    "for i in relevant:\n",
    "    signals2.append(EEG[i]);\n",
    "EEG = np.array(signals2);"
   ]
  },
  {
   "cell_type": "code",
   "execution_count": 9,
   "id": "fea7bc73",
   "metadata": {},
   "outputs": [
    {
     "name": "stdout",
     "output_type": "stream",
     "text": [
      "right 1\n",
      "foot 2\n",
      "Shape of trials[cl1]: (10, 2000, 80)\n",
      "[[[-895. -672. -826. ...  107. -313. -324.]\n",
      "  [-895. -669. -829. ...  113. -300. -329.]\n",
      "  [-918. -636. -822. ...  108. -319. -311.]\n",
      "  ...\n",
      "  [-430. -890. -632. ... -147. -274. -521.]\n",
      "  [-438. -911. -641. ... -129. -303. -520.]\n",
      "  [-437. -917. -643. ... -114. -318. -546.]]\n",
      "\n",
      " [[-679. -441. -433. ...  254. -256. -156.]\n",
      "  [-650. -444. -374. ...  207. -270. -180.]\n",
      "  [-687. -377. -324. ...  187. -287. -150.]\n",
      "  ...\n",
      "  [-371. -635. -230. ...   42. -131. -382.]\n",
      "  [-421. -664. -304. ...  100. -109. -345.]\n",
      "  [-416. -718. -321. ...  157. -100. -359.]]\n",
      "\n",
      " [[-301.  -98. -242. ...  613.  190.  297.]\n",
      "  [-302. -103. -224. ...  607.  198.  288.]\n",
      "  [-329.  -78. -206. ...  598.  180.  304.]\n",
      "  ...\n",
      "  [ 125. -278.    2. ...  425.  246.   19.]\n",
      "  [ 106. -301.  -16. ...  450.  230.   27.]\n",
      "  [  98. -329.  -25. ...  471.  215.    9.]]\n",
      "\n",
      " ...\n",
      "\n",
      " [[-639. -444. -492. ...   64. -419. -310.]\n",
      "  [-609. -449. -468. ...   26. -425. -325.]\n",
      "  [-622. -425. -434. ...   12. -445. -309.]\n",
      "  ...\n",
      "  [-282. -779. -432. ... -135. -320. -487.]\n",
      "  [-324. -819. -474. ... -112. -310. -489.]\n",
      "  [-318. -852. -487. ...  -90. -305. -511.]]\n",
      "\n",
      " [[-380. -199.  -94. ...  418.  -25.   54.]\n",
      "  [-370. -202.  -69. ...  403.  -25.   43.]\n",
      "  [-387. -173.  -51. ...  391.  -44.   53.]\n",
      "  ...\n",
      "  [ 107. -319.   84. ...  147.   17. -162.]\n",
      "  [  75. -340.   59. ...  172.    4. -153.]\n",
      "  [  79. -358.   56. ...  204.    0. -177.]]\n",
      "\n",
      " [[-717. -604. -812. ...    0. -415. -329.]\n",
      "  [-708. -623. -785. ...  -12. -409. -340.]\n",
      "  [-734. -591. -753. ...  -22. -425. -317.]\n",
      "  ...\n",
      "  [-234. -732. -535. ... -238. -269. -633.]\n",
      "  [-255. -756. -567. ... -218. -288. -619.]\n",
      "  [-253. -788. -571. ... -193. -301. -643.]]]\n",
      "Shape of trials[cl2]: (10, 2000, 88)\n"
     ]
    }
   ],
   "source": [
    "# Dictionary to store the trials in, each class gets an entry\n",
    "trials = {}\n",
    "\n",
    "# The time window (in samples) to extract for each trial, here 0.5 -- 2.5 seconds\n",
    "win = np.arange(int(0.5*sample_rate), int(2.5*sample_rate))\n",
    "\n",
    "# Length of the time window\n",
    "nsamples = len(win)\n",
    "\n",
    "# Loop over the classes (right, foot)\n",
    "for cl, code in zip(cl_lab, np.unique(event_codes)):\n",
    "    print(cl, code)\n",
    "\n",
    "    # Extract the onsets for the class\n",
    "    cl_onsets = event_onsets[event_codes == code]\n",
    "    \n",
    "    # Allocate memory for the trials\n",
    "    trials[cl] = np.zeros((nchannels, nsamples, len(cl_onsets)))\n",
    "    \n",
    "    # Extract each trial\n",
    "    for i, onset in enumerate(cl_onsets):\n",
    "        trials[cl][:,:,i] = EEG[:, win+onset]\n",
    "  \n",
    " #Some information about the dimensionality of the data (channels x time x trials)\n",
    "print('Shape of trials[cl1]:', trials[cl1].shape)\n",
    "print(trials[cl1])\n",
    "print('Shape of trials[cl2]:', trials[cl2].shape)"
   ]
  },
  {
   "cell_type": "code",
   "execution_count": 10,
   "id": "bcdc895f",
   "metadata": {},
   "outputs": [],
   "source": [
    "def bandpass(trials, lo, hi, sample_rate):\n",
    "    '''\n",
    "    Designs and applies a bandpass filter to the signal.\n",
    "    \n",
    "    Parameters\n",
    "    ----------\n",
    "    trials : 3d-array (channels x samples x trials)\n",
    "        The EEGsignal\n",
    "    lo : float\n",
    "        Lower frequency bound (in Hz)\n",
    "    hi : float\n",
    "        Upper frequency bound (in Hz)\n",
    "    sample_rate : float\n",
    "        Sample rate of the signal (in Hz)\n",
    "    \n",
    "    Returns\n",
    "    -------\n",
    "    trials_filt : 3d-array (channels x samples x trials)\n",
    "        The bandpassed signal\n",
    "    '''\n",
    "\n",
    "    # The butter() function takes the filter order: higher numbers mean a sharper frequency cutoff,\n",
    "    # but the resulting signal might be shifted in time, lower numbers mean a soft frequency cutoff,\n",
    "    # but the resulting signal less distorted in time. It also takes the lower and upper frequency bounds\n",
    "    # to pass, divided by the niquist frequency, which is the sample rate divided by 2:\n",
    "    a, b = scipy.signal.butter(4, [lo/(sample_rate/2.0), hi/(sample_rate/2.0)], btype = 'band')\n",
    "\n",
    "    # Applying the filter to each trial\n",
    "    ntrials = trials.shape[2]\n",
    "    trials_filt = np.zeros((nchannels, nsamples, ntrials))\n",
    "    for i in range(ntrials):\n",
    "        trials_filt[:,:,i] = scipy.signal.filtfilt(a, b, trials[:,:,i], axis=1)\n",
    "    \n",
    "    return trials_filt"
   ]
  },
  {
   "cell_type": "code",
   "execution_count": 11,
   "id": "af15cd45",
   "metadata": {},
   "outputs": [],
   "source": [
    "# Apply the function\n",
    "s = 3\n",
    "trials_filt = []\n",
    "for i in range(9):\n",
    "    a = {cl1: bandpass(trials[cl1], s, s+5, sample_rate),\n",
    "               cl2: bandpass(trials[cl2], s, s+5, sample_rate)}\n",
    "    trials_filt.append(a);\n",
    "    s+=4"
   ]
  },
  {
   "cell_type": "code",
   "execution_count": 12,
   "id": "c297aff9",
   "metadata": {},
   "outputs": [],
   "source": [
    "# Calculate the log(var) of the trials\n",
    "def logvar(trials):\n",
    "    '''\n",
    "    Calculate the log-var of each channel.\n",
    "    \n",
    "    Parameters\n",
    "    ----------\n",
    "    trials : 3d-array (channels x samples x trials)\n",
    "        The EEG signal.\n",
    "        \n",
    "    Returns\n",
    "    -------\n",
    "    logvar - 2d-array (channels x trials)\n",
    "        For each channel the logvar of the signal\n",
    "    '''\n",
    "    return np.log(np.var(trials, axis=1))"
   ]
  },
  {
   "cell_type": "code",
   "execution_count": 13,
   "id": "258c1911",
   "metadata": {},
   "outputs": [],
   "source": [
    "def cov(trials):\n",
    "    ''' Calculate the covariance for each trial and return their average '''\n",
    "    ntrials = trials.shape[2]\n",
    "    covs = [ trials[:,:,i].dot(trials[:,:,i].T) / nsamples for i in range(ntrials) ]\n",
    "    return np.mean(covs, axis=0)\n",
    "\n",
    "def whitening(sigma):\n",
    "    ''' Calculate a whitening matrix for covariance matrix sigma. '''\n",
    "    U, l, _ = linalg.svd(sigma)\n",
    "    return U.dot( np.diag(l ** -0.5) )\n",
    "\n",
    "def csp(trials_r, trials_f):\n",
    "    '''\n",
    "    Calculate the CSP transformation matrix W.\n",
    "    arguments:\n",
    "        trials_r - Array (channels x samples x trials) containing right hand movement trials\n",
    "        trials_f - Array (channels x samples x trials) containing foot movement trials\n",
    "    returns:\n",
    "        Mixing matrix W\n",
    "    '''\n",
    "    cov_r = cov(trials_r)\n",
    "    cov_f = cov(trials_f)\n",
    "    P = whitening(cov_r + cov_f)\n",
    "    B, _, _ = linalg.svd( P.T.dot(cov_f).dot(P) )\n",
    "    W = P.dot(B)\n",
    "    return W\n",
    "\n",
    "def apply_mix(W, trials):\n",
    "    ''' Apply a mixing matrix to each trial (basically multiply W with the EEG signal matrix)'''\n",
    "    ntrials = trials.shape[2]\n",
    "    trials_csp = np.zeros((nchannels, nsamples, ntrials))\n",
    "    for i in range(ntrials):\n",
    "        trials_csp[:,:,i] = W.T.dot(trials[:,:,i])\n",
    "    return trials_csp"
   ]
  },
  {
   "cell_type": "code",
   "execution_count": 14,
   "id": "3d63e93e",
   "metadata": {},
   "outputs": [
    {
     "data": {
      "text/plain": [
       "(10, 2000, 80)"
      ]
     },
     "execution_count": 14,
     "metadata": {},
     "output_type": "execute_result"
    }
   ],
   "source": [
    "trials_filt[0][cl1].shape"
   ]
  },
  {
   "cell_type": "code",
   "execution_count": 15,
   "id": "f46a7923",
   "metadata": {},
   "outputs": [],
   "source": [
    "# Apply the functions w1,w2,....,w9\n",
    "W = [];\n",
    "for i in range(9):\n",
    "    W.append(csp(trials_filt[i][cl1], trials_filt[i][cl2]))\n",
    "    trials_csp = {cl1: apply_mix(W[i], trials_filt[i][cl1]),\n",
    "                  cl2: apply_mix(W[i], trials_filt[i][cl2])}"
   ]
  },
  {
   "cell_type": "code",
   "execution_count": 16,
   "id": "3567251c",
   "metadata": {},
   "outputs": [],
   "source": [
    "# function for reshaping\n",
    "def f(train, cl1):\n",
    "    train1 = np.zeros((10, 9, train[0][cl1].shape[1]));\n",
    "    for i in range(10):\n",
    "        for j in range(9):\n",
    "            for k in range(train[0][cl1].shape[1]):\n",
    "                train1[i][j][k] = train[j][cl1][i][k];\n",
    "    return train1;"
   ]
  },
  {
   "cell_type": "code",
   "execution_count": 17,
   "id": "436b7fb9",
   "metadata": {},
   "outputs": [],
   "source": [
    "# Percentage of trials to use for training (50-50 split here)\n",
    "train_percentage = 0.7\n",
    "\n",
    "# Calculate the number of trials for each class the above percentage boils down to\n",
    "\n",
    "ntrain_r = int(trials_filt[0][cl1].shape[2] * train_percentage)\n",
    "ntrain_f = int(trials_filt[0][cl2].shape[2] * train_percentage)\n",
    "ntest_r = trials_filt[0][cl1].shape[2] - ntrain_r\n",
    "ntest_f = trials_filt[0][cl2].shape[2] - ntrain_f\n",
    "\n",
    "    # Splitting the frequency filtered signal into a train and test set\n",
    "train = []; test = []; W = [];\n",
    "for i in range(9):\n",
    "    train.append({cl1: trials_filt[i][cl1][:,:,:ntrain_r],\n",
    "             cl2: trials_filt[i][cl2][:,:,:ntrain_f]})\n",
    "\n",
    "    test.append({cl1: trials_filt[i][cl1][:,:,ntrain_r:],\n",
    "            cl2: trials_filt[i][cl2][:,:,ntrain_f:]})\n",
    "\n",
    "    # Train the CSP on the training set only\n",
    "    W.append(csp(train[i][cl1], train[i][cl2]))\n",
    "\n",
    "    # Apply the CSP on both the training and test set\n",
    "    train[i][cl1] = apply_mix(W[i], train[i][cl1])\n",
    "    train[i][cl2] = apply_mix(W[i], train[i][cl2])\n",
    "    test[i][cl1] = apply_mix(W[i], test[i][cl1])\n",
    "    test[i][cl2] = apply_mix(W[i], test[i][cl2])\n",
    "\n",
    "    # Select only the first and last components for classification\n",
    "    #comp = np.array([0,1,2,3])\n",
    "    train[i][cl1] = train[i][cl1][:,:,:]\n",
    "    train[i][cl2] = train[i][cl2][:,:,:]\n",
    "    test[i][cl1] = test[i][cl1][:,:,:]\n",
    "    test[i][cl2] = test[i][cl2][:,:,:]\n",
    "\n",
    "    # Calculate the log-var\n",
    "    train[i][cl1] = logvar(train[i][cl1])\n",
    "    train[i][cl2] = logvar(train[i][cl2])\n",
    "    test[i][cl1] = logvar(test[i][cl1])\n",
    "    test[i][cl2] = logvar(test[i][cl2])\n",
    "    \n",
    "#reshape to nchannelsx9featuresxtrials\n",
    "train = {cl1 : f(train, cl1), cl2 : f(train, cl2)}\n",
    "test = {cl1 : f(test, cl1), cl2 : f(test, cl2)}"
   ]
  },
  {
   "cell_type": "code",
   "execution_count": 18,
   "id": "b7eaa6ee",
   "metadata": {},
   "outputs": [],
   "source": [
    "columns = ['3-8 Hz', '7-12 Hz','11-16 Hz','15-20 Hz','19-24 Hz','23-28 Hz', '27-32 Hz', '31-36 Hz', '35-40 Hz']"
   ]
  },
  {
   "cell_type": "code",
   "execution_count": 19,
   "id": "ffb54774",
   "metadata": {},
   "outputs": [
    {
     "data": {
      "text/plain": [
       "10"
      ]
     },
     "execution_count": 19,
     "metadata": {},
     "output_type": "execute_result"
    }
   ],
   "source": [
    "train[cl1].shape[0]"
   ]
  },
  {
   "cell_type": "code",
   "execution_count": 20,
   "id": "a4a041e3",
   "metadata": {},
   "outputs": [],
   "source": [
    "x_train = [_]*10\n",
    "dict = {}\n",
    "for i in range(10):\n",
    "    for j in range(9):\n",
    "        dict[columns[j]] = train[cl1][i][j]\n",
    "    x_train[i] = pd.DataFrame(dict)\n",
    "for i in range(10):\n",
    "    for j in range(9):\n",
    "        dict[columns[j]] = train[cl2][i][j]\n",
    "    x_train[i] = x_train[i].append(pd.DataFrame(dict), ignore_index=True)\n",
    "\n",
    "x_test = [_]*10\n",
    "for i in range(10):\n",
    "    for j in range(9):\n",
    "        dict[columns[j]] = test[cl1][i][j]\n",
    "    x_test[i] = pd.DataFrame(dict)\n",
    "for i in range(10):\n",
    "    for j in range(9):\n",
    "        dict[columns[j]] = test[cl2][i][j]\n",
    "    x_test[i] = x_test[i].append(pd.DataFrame(dict), ignore_index=True)"
   ]
  },
  {
   "cell_type": "code",
   "execution_count": 21,
   "id": "a2cb0647",
   "metadata": {},
   "outputs": [],
   "source": [
    "y_train = np.full(train[cl1].shape[2],1, float)\n",
    "y_train = np.append(y_train, np.full(train[cl2].shape[2],2, float))\n",
    "y_test = np.full(test[cl1].shape[2],1, float)\n",
    "y_test = np.append(y_test, np.full(test[cl2].shape[2],2, float))"
   ]
  },
  {
   "cell_type": "code",
   "execution_count": 22,
   "id": "42c1c3cd",
   "metadata": {},
   "outputs": [
    {
     "name": "stderr",
     "output_type": "stream",
     "text": [
      "100%|█████████████████████████████████████████████| 9/9 [00:02<00:00,  3.69it/s]\n",
      "100%|█████████████████████████████████████████████| 9/9 [00:02<00:00,  3.71it/s]\n",
      "100%|█████████████████████████████████████████████| 9/9 [00:02<00:00,  3.64it/s]\n",
      "100%|█████████████████████████████████████████████| 9/9 [00:02<00:00,  3.62it/s]\n",
      "100%|█████████████████████████████████████████████| 9/9 [00:02<00:00,  3.27it/s]\n",
      "100%|█████████████████████████████████████████████| 9/9 [00:02<00:00,  3.68it/s]\n",
      "100%|█████████████████████████████████████████████| 9/9 [00:02<00:00,  3.69it/s]\n",
      "100%|█████████████████████████████████████████████| 9/9 [00:02<00:00,  3.62it/s]\n",
      "100%|█████████████████████████████████████████████| 9/9 [00:02<00:00,  3.63it/s]\n",
      "100%|█████████████████████████████████████████████| 9/9 [00:02<00:00,  3.31it/s]\n"
     ]
    }
   ],
   "source": [
    "selected_features = [_]*10\n",
    "for i in range(10):\n",
    "    selected_features[i] = mrmr_classif(X = x_train[i], y=y_train, K = 10) "
   ]
  },
  {
   "cell_type": "code",
   "execution_count": 23,
   "id": "9104c995",
   "metadata": {},
   "outputs": [],
   "source": [
    "for i in range(9):\n",
    "    x_train[i].columns = selected_features[i]\n",
    "    x_test[i].columns = selected_features[i]"
   ]
  },
  {
   "cell_type": "code",
   "execution_count": 24,
   "id": "aa8c1464",
   "metadata": {},
   "outputs": [],
   "source": [
    "l = ['ch' + str(i) + 'f' + str(j) for j in range(1, 10) for i in range(1, 11)];\n",
    "len(l)\n",
    "k = 0;\n",
    "df_train = pd.DataFrame()\n",
    "df_test = pd.DataFrame()\n",
    "from sklearn import svm\n",
    "y_pred = [_]*9\n",
    "for i in range(9):\n",
    "    for j in range(10):\n",
    "        df_train[l[k]] = x_train[j].iloc[:,i:(i+1)]\n",
    "        df_test[l[k]] = x_test[j].iloc[:,i:(i+1)]\n",
    "        k+=1\n",
    "    clf = svm.SVC(random_state = 42)\n",
    "    clf.fit(df_train, y_train)\n",
    "    y_pred[i] = clf.predict(df_test)"
   ]
  },
  {
   "cell_type": "code",
   "execution_count": 25,
   "id": "9ea48b64",
   "metadata": {},
   "outputs": [],
   "source": [
    "accuracy = [_]*9\n",
    "for i in range(9):\n",
    "    accuracy[i] = 100*(len(y_test) - (abs(y_pred[i] - y_test)).sum())/len(y_test)"
   ]
  },
  {
   "cell_type": "code",
   "execution_count": 26,
   "id": "6bb76d57",
   "metadata": {},
   "outputs": [
    {
     "data": {
      "text/plain": [
       "96.07843137254902"
      ]
     },
     "execution_count": 26,
     "metadata": {},
     "output_type": "execute_result"
    }
   ],
   "source": [
    "np.max(accuracy)"
   ]
  },
  {
   "cell_type": "code",
   "execution_count": 33,
   "id": "7d932c9a",
   "metadata": {},
   "outputs": [
    {
     "data": {
      "text/plain": [
       "Text(0, 0.5, 'Accuracy in percentage')"
      ]
     },
     "execution_count": 33,
     "metadata": {},
     "output_type": "execute_result"
    },
    {
     "data": {
      "image/png": "[encoded data removed]",
      "text/plain": [
       "<Figure size 432x288 with 1 Axes>"
      ]
     },
     "metadata": {
      "needs_background": "light"
     },
     "output_type": "display_data"
    }
   ],
   "source": [
    "plt.plot(accuracy)\n",
    "plt.xlabel(\"Number of features\", color = 'b')\n",
    "plt.ylabel(\"Accuracy in percentage\", color = 'b')"
   ]
  },
  {
   "cell_type": "markdown",
   "id": "fa02f5ef",
   "metadata": {},
   "source": [
    "## Without taking reference channel as C3"
   ]
  },
  {
   "cell_type": "code",
   "execution_count": 52,
   "id": "1d5b7ea2",
   "metadata": {},
   "outputs": [],
   "source": [
    "import random\n",
    "relevant = []\n",
    "for x in range(10):\n",
    "    relevant.append(random.randint(0, 118))\n",
    "\n",
    "signals2 = [];\n",
    "\n",
    "nchannels = 10;\n",
    "for i in relevant:\n",
    "    signals2.append(signals[i]);\n",
    "EEG = np.array(signals2);"
   ]
  },
  {
   "cell_type": "code",
   "execution_count": 53,
   "id": "f31ed283",
   "metadata": {},
   "outputs": [
    {
     "name": "stdout",
     "output_type": "stream",
     "text": [
      "right 1.0\n",
      "foot 2.0\n",
      "Shape of trials[cl1]: (10, 2000, 112)\n",
      "[[[  69.  408.  126. ...  176.  103.  209.]\n",
      "  [  -2.  397.   89. ...  226.   51.  147.]\n",
      "  [ -36.  364.   10. ...  271.  -14.   75.]\n",
      "  ...\n",
      "  [-133.  130. -177. ... -335.   95.   56.]\n",
      "  [-147.  117. -108. ... -340.  175.  103.]\n",
      "  [-169.  161.  -57. ... -327.  234.   92.]]\n",
      "\n",
      " [[ 361.  675.  601. ...  555.  217.  268.]\n",
      "  [ 294.  657.  590. ...  612.  156.  201.]\n",
      "  [ 250.  614.  522. ...  656.   77.  129.]\n",
      "  ...\n",
      "  [ 296.  473.  176. ...  -57.  351.  169.]\n",
      "  [ 307.  497.  253. ...  -68.  419.  257.]\n",
      "  [ 284.  526.  322. ...  -48.  462.  273.]]\n",
      "\n",
      " [[  69.  408.  126. ...  176.  103.  209.]\n",
      "  [  -2.  397.   89. ...  226.   51.  147.]\n",
      "  [ -36.  364.   10. ...  271.  -14.   75.]\n",
      "  ...\n",
      "  [-133.  130. -177. ... -335.   95.   56.]\n",
      "  [-147.  117. -108. ... -340.  175.  103.]\n",
      "  [-169.  161.  -57. ... -327.  234.   92.]]\n",
      "\n",
      " ...\n",
      "\n",
      " [[ -71.  193.   34. ...  -48.   95.   12.]\n",
      "  [ -79.  163.   33. ...  -23.   56.    0.]\n",
      "  [ -85.  141.   -9. ...   -1.   13.  -48.]\n",
      "  ...\n",
      "  [-110. -127. -289. ... -227. -110. -150.]\n",
      "  [-108. -114. -216. ... -270.  -65. -147.]\n",
      "  [-110.  -85. -161. ... -278.  -52. -133.]]\n",
      "\n",
      " [[-236.  315.  247. ...   67. -128.   90.]\n",
      "  [-258.  294.  229. ...   98. -162.   60.]\n",
      "  [-271.  283.  183. ...  128. -205.   15.]\n",
      "  ...\n",
      "  [-383.  135. -105. ... -336. -145. -110.]\n",
      "  [-386.  138.  -32. ... -354.  -96.  -64.]\n",
      "  [-412.  155.   28. ... -344.  -73.  -55.]]\n",
      "\n",
      " [[ 186.  541.  638. ...  378.  443.  443.]\n",
      "  [ 179.  527.  639. ...  408.  402.  420.]\n",
      "  [ 176.  524.  616. ...  433.  364.  377.]\n",
      "  ...\n",
      "  [ 113.  391.  155. ...  215.  302.  139.]\n",
      "  [ 109.  398.  211. ...  192.  353.  199.]\n",
      "  [  97.  423.  262. ...  193.  370.  223.]]]\n",
      "Shape of trials[cl2]: (10, 2000, 112)\n"
     ]
    }
   ],
   "source": [
    "# Dictionary to store the trials in, each class gets an entry\n",
    "trials = {}\n",
    "\n",
    "# The time window (in samples) to extract for each trial, here 0.5 -- 2.5 seconds\n",
    "win = np.arange(int(0.5*sample_rate), int(2.5*sample_rate))\n",
    "\n",
    "# Length of the time window\n",
    "nsamples = len(win)\n",
    "\n",
    "# Loop over the classes (right, foot)\n",
    "for cl, code in zip(cl_lab, np.unique(event_codes)):\n",
    "    print(cl, code)\n",
    "\n",
    "    # Extract the onsets for the class\n",
    "    cl_onsets = event_onsets[event_codes == code]\n",
    "    \n",
    "    # Allocate memory for the trials\n",
    "    trials[cl] = np.zeros((nchannels, nsamples, len(cl_onsets)))\n",
    "    \n",
    "    # Extract each trial\n",
    "    for i, onset in enumerate(cl_onsets):\n",
    "        trials[cl][:,:,i] = EEG[:, win+onset]\n",
    "  \n",
    " #Some information about the dimensionality of the data (channels x time x trials)\n",
    "print('Shape of trials[cl1]:', trials[cl1].shape)\n",
    "print(trials[cl1])\n",
    "print('Shape of trials[cl2]:', trials[cl2].shape)"
   ]
  },
  {
   "cell_type": "code",
   "execution_count": 54,
   "id": "b2da0a88",
   "metadata": {},
   "outputs": [],
   "source": [
    "# Apply the function\n",
    "s = 3\n",
    "trials_filt = []\n",
    "for i in range(9):\n",
    "    a = {cl1: bandpass(trials[cl1], s, s+5, sample_rate),\n",
    "               cl2: bandpass(trials[cl2], s, s+5, sample_rate)}\n",
    "    trials_filt.append(a);\n",
    "    s+=4"
   ]
  },
  {
   "cell_type": "code",
   "execution_count": 55,
   "id": "e8be264a",
   "metadata": {},
   "outputs": [],
   "source": [
    "# Percentage of trials to use for training (50-50 split here)\n",
    "train_percentage = 0.7\n",
    "\n",
    "# Calculate the number of trials for each class the above percentage boils down to\n",
    "\n",
    "ntrain_r = int(trials_filt[0][cl1].shape[2] * train_percentage)\n",
    "ntrain_f = int(trials_filt[0][cl2].shape[2] * train_percentage)\n",
    "ntest_r = trials_filt[0][cl1].shape[2] - ntrain_r\n",
    "ntest_f = trials_filt[0][cl2].shape[2] - ntrain_f\n",
    "\n",
    "    # Splitting the frequency filtered signal into a train and test set\n",
    "train = []; test = []; W = [];\n",
    "for i in range(9):\n",
    "    train.append({cl1: trials_filt[i][cl1][:,:,:ntrain_r],\n",
    "             cl2: trials_filt[i][cl2][:,:,:ntrain_f]})\n",
    "\n",
    "    test.append({cl1: trials_filt[i][cl1][:,:,ntrain_r:],\n",
    "            cl2: trials_filt[i][cl2][:,:,ntrain_f:]})\n",
    "\n",
    "    # Train the CSP on the training set only\n",
    "    W.append(csp(train[i][cl1], train[i][cl2]))\n",
    "\n",
    "    # Apply the CSP on both the training and test set\n",
    "    train[i][cl1] = apply_mix(W[i], train[i][cl1])\n",
    "    train[i][cl2] = apply_mix(W[i], train[i][cl2])\n",
    "    test[i][cl1] = apply_mix(W[i], test[i][cl1])\n",
    "    test[i][cl2] = apply_mix(W[i], test[i][cl2])\n",
    "\n",
    "    # Select only the first and last components for classification\n",
    "    #comp = np.array([0,1,2,3])\n",
    "    train[i][cl1] = train[i][cl1][:,:,:]\n",
    "    train[i][cl2] = train[i][cl2][:,:,:]\n",
    "    test[i][cl1] = test[i][cl1][:,:,:]\n",
    "    test[i][cl2] = test[i][cl2][:,:,:]\n",
    "\n",
    "    # Calculate the log-var\n",
    "    train[i][cl1] = logvar(train[i][cl1])\n",
    "    train[i][cl2] = logvar(train[i][cl2])\n",
    "    test[i][cl1] = logvar(test[i][cl1])\n",
    "    test[i][cl2] = logvar(test[i][cl2])\n",
    "    \n",
    "#reshape to nchannelsx9featuresxtrials\n",
    "train = {cl1 : f(train, cl1), cl2 : f(train, cl2)}\n",
    "test = {cl1 : f(test, cl1), cl2 : f(test, cl2)}"
   ]
  },
  {
   "cell_type": "code",
   "execution_count": 56,
   "id": "d8f5c871",
   "metadata": {},
   "outputs": [],
   "source": [
    "x_train = [_]*10\n",
    "dict = {}\n",
    "for i in range(10):\n",
    "    for j in range(9):\n",
    "        dict[columns[j]] = train[cl1][i][j]\n",
    "    x_train[i] = pd.DataFrame(dict)\n",
    "for i in range(10):\n",
    "    for j in range(9):\n",
    "        dict[columns[j]] = train[cl2][i][j]\n",
    "    x_train[i] = x_train[i].append(pd.DataFrame(dict), ignore_index=True)\n",
    "\n",
    "x_test = [_]*10\n",
    "for i in range(10):\n",
    "    for j in range(9):\n",
    "        dict[columns[j]] = test[cl1][i][j]\n",
    "    x_test[i] = pd.DataFrame(dict)\n",
    "for i in range(10):\n",
    "    for j in range(9):\n",
    "        dict[columns[j]] = test[cl2][i][j]\n",
    "    x_test[i] = x_test[i].append(pd.DataFrame(dict), ignore_index=True)"
   ]
  },
  {
   "cell_type": "code",
   "execution_count": 57,
   "id": "0a1f738e",
   "metadata": {},
   "outputs": [],
   "source": [
    "y_train = np.full(train[cl1].shape[2],1, float)\n",
    "y_train = np.append(y_train, np.full(train[cl2].shape[2],2, float))\n",
    "y_test = np.full(test[cl1].shape[2],1, float)\n",
    "y_test = np.append(y_test, np.full(test[cl2].shape[2],2, float))"
   ]
  },
  {
   "cell_type": "code",
   "execution_count": 58,
   "id": "5ad1b412",
   "metadata": {},
   "outputs": [
    {
     "name": "stderr",
     "output_type": "stream",
     "text": [
      "100%|█████████████████████████████████████████████| 9/9 [00:10<00:00,  1.18s/it]\n",
      "100%|█████████████████████████████████████████████| 9/9 [00:10<00:00,  1.19s/it]\n",
      "100%|█████████████████████████████████████████████| 9/9 [00:10<00:00,  1.18s/it]\n",
      "100%|█████████████████████████████████████████████| 9/9 [00:06<00:00,  1.31it/s]\n",
      "100%|█████████████████████████████████████████████| 9/9 [00:07<00:00,  1.22it/s]\n",
      "100%|█████████████████████████████████████████████| 9/9 [00:04<00:00,  2.11it/s]\n",
      "100%|█████████████████████████████████████████████| 9/9 [00:03<00:00,  2.43it/s]\n",
      "100%|█████████████████████████████████████████████| 9/9 [00:02<00:00,  3.05it/s]\n",
      "100%|█████████████████████████████████████████████| 9/9 [00:02<00:00,  3.13it/s]\n",
      "100%|█████████████████████████████████████████████| 9/9 [00:02<00:00,  3.11it/s]\n"
     ]
    }
   ],
   "source": [
    "selected_features = [_]*10\n",
    "for i in range(10):\n",
    "    selected_features[i] = mrmr_classif(X = x_train[i], y=y_train, K = 10) "
   ]
  },
  {
   "cell_type": "code",
   "execution_count": 59,
   "id": "e7a7010f",
   "metadata": {},
   "outputs": [],
   "source": [
    "for i in range(9):\n",
    "    x_train[i].columns = selected_features[i]\n",
    "    x_test[i].columns = selected_features[i]"
   ]
  },
  {
   "cell_type": "code",
   "execution_count": 60,
   "id": "1f6bcb1e",
   "metadata": {},
   "outputs": [],
   "source": [
    "l = ['ch' + str(i) + 'f' + str(j) for j in range(1, 10) for i in range(1, 11)];\n",
    "len(l)\n",
    "k = 0;\n",
    "df_train = pd.DataFrame()\n",
    "df_test = pd.DataFrame()\n",
    "from sklearn import svm\n",
    "y_pred = [_]*9\n",
    "for i in range(9):\n",
    "    for j in range(10):\n",
    "        df_train[l[k]] = x_train[j].iloc[:,i:(i+1)]\n",
    "        df_test[l[k]] = x_test[j].iloc[:,i:(i+1)]\n",
    "        k+=1\n",
    "    clf = svm.SVC(random_state = 42)\n",
    "    clf.fit(df_train, y_train)\n",
    "    y_pred[i] = clf.predict(df_test)"
   ]
  },
  {
   "cell_type": "code",
   "execution_count": 61,
   "id": "e574ba2b",
   "metadata": {},
   "outputs": [],
   "source": [
    "accuracy = [_]*9\n",
    "for i in range(9):\n",
    "    accuracy[i] = 100*(len(y_test) - (abs(y_pred[i] - y_test)).sum())/len(y_test)"
   ]
  },
  {
   "cell_type": "code",
   "execution_count": 62,
   "id": "35ed7f58",
   "metadata": {},
   "outputs": [
    {
     "data": {
      "text/plain": [
       "92.6470588235294"
      ]
     },
     "execution_count": 62,
     "metadata": {},
     "output_type": "execute_result"
    }
   ],
   "source": [
    "np.max(accuracy)"
   ]
  },
  {
   "cell_type": "code",
   "execution_count": 63,
   "id": "ab5ff4d0",
   "metadata": {},
   "outputs": [
    {
     "data": {
      "text/plain": [
       "Text(0, 0.5, 'Accuracy in percentage')"
      ]
     },
     "execution_count": 63,
     "metadata": {},
     "output_type": "execute_result"
    },
    {
     "data": {
      "image/png": "[encoded data removed]",
      "text/plain": [
       "<Figure size 432x288 with 1 Axes>"
      ]
     },
     "metadata": {
      "needs_background": "light"
     },
     "output_type": "display_data"
    }
   ],
   "source": [
    "plt.plot(accuracy)\n",
    "plt.xlabel(\"Number of features\", color = 'b')\n",
    "plt.ylabel(\"Accuracy in percentage\", color = 'b')"
   ]
  },
  {
   "cell_type": "code",
   "execution_count": null,
   "id": "5e1a43d6",
   "metadata": {},
   "outputs": [],
   "source": []
  }
 ],
 "metadata": {
  "kernelspec": {
   "display_name": "Python 3 (ipykernel)",
   "language": "python",
   "name": "python3"
  },
  "language_info": {
   "codemirror_mode": {
    "name": "ipython",
    "version": 3
   },
   "file_extension": ".py",
   "mimetype": "text/x-python",
   "name": "python",
   "nbconvert_exporter": "python",
   "pygments_lexer": "ipython3",
   "version": "3.9.7"
  }
 },
 "nbformat": 4,
 "nbformat_minor": 5
}
